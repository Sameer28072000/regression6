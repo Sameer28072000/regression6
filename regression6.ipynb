{
 "cells": [
  {
   "cell_type": "markdown",
   "id": "bda1ff25-06fc-462b-87c1-3591d2c768cc",
   "metadata": {},
   "source": [
    "Q1. What are the key steps involved in building an end-to-end web application, from development to\n",
    "deployment on the cloud?"
   ]
  },
  {
   "cell_type": "code",
   "execution_count": null,
   "id": "0c8ba6bc-424c-4cdc-b877-40321c5aa08e",
   "metadata": {},
   "outputs": [],
   "source": [
    "Ans:-i will make one form & all my input feature give through this form & press the submit \n",
    "     button all my data will go to the server means backend & basically interact with pickle file  \n",
    "     whatever prediction output it will show on web app.This is the process to integrated web app.\n",
    "        \n",
    "    "
   ]
  }
 ],
 "metadata": {
  "kernelspec": {
   "display_name": "Python 3 (ipykernel)",
   "language": "python",
   "name": "python3"
  },
  "language_info": {
   "codemirror_mode": {
    "name": "ipython",
    "version": 3
   },
   "file_extension": ".py",
   "mimetype": "text/x-python",
   "name": "python",
   "nbconvert_exporter": "python",
   "pygments_lexer": "ipython3",
   "version": "3.10.8"
  }
 },
 "nbformat": 4,
 "nbformat_minor": 5
}
